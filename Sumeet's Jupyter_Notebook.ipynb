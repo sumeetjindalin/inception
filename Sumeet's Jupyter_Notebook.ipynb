{
 "cells": [
  {
   "cell_type": "markdown",
   "metadata": {},
   "source": [
    "<center>\n",
    "    <img src=\"https://cf-courses-data.s3.us.cloud-object-storage.appdomain.cloud/IBMDeveloperSkillsNetwork-DS0105EN-SkillsNetwork/labs/Module2/images/SN_web_lightmode.png\" width=\"300\" alt=\"cognitiveclass.ai logo\">\n",
    "</center>\n"
   ]
  },
  {
   "cell_type": "markdown",
   "metadata": {
    "tags": []
   },
   "source": [
    "#### Add your code below following the instructions given in the course\n"
   ]
  },
  {
   "cell_type": "markdown",
   "metadata": {},
   "source": [
    "# My Jupter Notebook on IBM Watson Studio"
   ]
  },
  {
   "cell_type": "markdown",
   "metadata": {},
   "source": [
    "## Sumeet Jindal\n",
    "I am working as HR Professional and aspire to connect data science with HR Analytics."
   ]
  },
  {
   "cell_type": "markdown",
   "metadata": {},
   "source": [
    "*I am interested to learn Data Science to capture those emotional leads in the data which we miss while working on different HR Aspects like for example Attrition. With better systems now and connected world, this data of emotion can be taken from the social media posts of an individual and this may somewhere help in better decision making*"
   ]
  },
  {
   "cell_type": "markdown",
   "metadata": {},
   "source": [
    "### In Cell 5, i am trying to put a simple mathematical formula"
   ]
  },
  {
   "cell_type": "code",
   "execution_count": 2,
   "metadata": {},
   "outputs": [
    {
     "data": {
      "text/plain": [
       "84"
      ]
     },
     "execution_count": 2,
     "metadata": {},
     "output_type": "execute_result"
    }
   ],
   "source": [
    "4+4*4*5"
   ]
  },
  {
   "cell_type": "markdown",
   "metadata": {},
   "source": [
    "I am creating an unordered (bulleted) a list as below\n",
    "* First line\n",
    "* The second one\n",
    "* And so on\n",
    "\n",
    "Also, the second thing i am making is a short table\n",
    "\n",
    "| S. No       | Name             | Age      |\n",
    "|-------------|:----------------:|----------|\n",
    "| 1.          | Rachyeta         | 34       |\n",
    "| 2.          | Piyush           | 45       |\n",
    "| 3.          | Utkarsh          | 33       |\n",
    "\n",
    "~~But i still have to figure out that why the vertical lines are not appearing. I will explore and learn~~\n",
    "\n",
    "and those were three things that were asked to do. "
   ]
  },
  {
   "cell_type": "code",
   "execution_count": null,
   "metadata": {},
   "outputs": [],
   "source": []
  }
 ],
 "metadata": {
  "kernelspec": {
   "display_name": "Python",
   "language": "python",
   "name": "conda-env-python-py"
  },
  "language_info": {
   "codemirror_mode": {
    "name": "ipython",
    "version": 3
   },
   "file_extension": ".py",
   "mimetype": "text/x-python",
   "name": "python",
   "nbconvert_exporter": "python",
   "pygments_lexer": "ipython3",
   "version": "3.7.12"
  }
 },
 "nbformat": 4,
 "nbformat_minor": 4
}
